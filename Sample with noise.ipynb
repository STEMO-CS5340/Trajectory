{
 "cells": [
  {
   "cell_type": "markdown",
   "metadata": {},
   "source": [
    "# Generate sample with noise"
   ]
  },
  {
   "cell_type": "code",
   "execution_count": 1,
   "metadata": {},
   "outputs": [],
   "source": [
    "from __future__ import print_function\n",
    "\n",
    "import numpy as np\n",
    "import reflexxes\n",
    "import random\n",
    "import pandas as pd\n",
    "from numpy import genfromtxt\n",
    "\n",
    "# visualiation\n",
    "import matplotlib.pyplot as plt\n",
    "from mpl_toolkits import mplot3d\n",
    "\n",
    "from hmmlearn import hmm\n",
    "from scipy.optimize import linear_sum_assignment\n",
    "from sklearn.metrics.pairwise import euclidean_distances"
   ]
  },
  {
   "cell_type": "code",
   "execution_count": 2,
   "metadata": {},
   "outputs": [],
   "source": [
    "# plot the data\n",
    "def on_key_press(event):\n",
    "    if event.key == 'escape':\n",
    "        plt.close()"
   ]
  },
  {
   "cell_type": "code",
   "execution_count": 3,
   "metadata": {},
   "outputs": [],
   "source": [
    "def original_plot(x, dd, dddx):\n",
    "    t = np.linspace(0, len(x) * gen.cycle_time, len(x))\n",
    "    fig, (ax1, ax2, ax3) = plt.subplots(3, sharex=True)\n",
    "    fig.canvas.mpl_connect('key_press_event', on_key_press)\n",
    "    ax1.plot(t, x)\n",
    "    ax1.set_ylabel('position')\n",
    "    ax1.legend('123', title='DOF #')\n",
    "    ax2.plot(t, dx)\n",
    "    ax2.set_ylabel('velocity')\n",
    "    ax2.legend('123', title='DOF #')\n",
    "    ax3.plot(t, ddx)\n",
    "    ax3.set_ylabel('acceleration')\n",
    "    ax3.legend('123', title='DOF #')\n",
    "    ax3.set_xlabel('time')\n",
    "    plt.show()"
   ]
  },
  {
   "cell_type": "code",
   "execution_count": 4,
   "metadata": {},
   "outputs": [],
   "source": [
    "def plot_trajectory(x, title):\n",
    "    x = np.array(x)\n",
    "    fig = plt.figure()\n",
    "    ax = plt.axes(projection='3d')\n",
    "    plt.title(title)\n",
    "    xline = x[:,0]\n",
    "    yline = x[:,1]\n",
    "    zline = x[:,2]\n",
    "    ax.plot3D(xline, yline, zline, 'green')"
   ]
  },
  {
   "cell_type": "code",
   "execution_count": 5,
   "metadata": {},
   "outputs": [],
   "source": [
    "# used to generate velocity, position and acceleration\n",
    "def generate_random_variable(lower_limit, higher_limit):\n",
    "    return [random.randrange(lower_limit, higher_limit), \n",
    "            random.randrange(lower_limit, higher_limit), \n",
    "            random.randrange(lower_limit, higher_limit)]"
   ]
  },
  {
   "cell_type": "code",
   "execution_count": 6,
   "metadata": {},
   "outputs": [],
   "source": [
    "'''\n",
    "Randomized elements: starting & ending poisition, velocity and acceleration \n",
    "\n",
    "'''\n",
    "\n",
    "def generate_trajectory(gen):\n",
    "    # set initial values\n",
    "    gen.current_position = generate_random_variable(0, 100)\n",
    "    gen.current_velocity = generate_random_variable(-10, 10)\n",
    "    gen.current_acceleration = generate_random_variable(0, 5)\n",
    "\n",
    "    position = [gen.current_position.tolist()]\n",
    "    velocity = [gen.current_velocity.tolist()]\n",
    "    acceleration = [gen.current_acceleration.tolist()]\n",
    "    \n",
    "    # generate trajectory\n",
    "    for pos, vel, acc in gen.trajectory(generate_random_variable(0, 100), generate_random_variable(-10, 10), 1):\n",
    "        '''\n",
    "        auto trajectory(const RMLDoubleVector& target_position,\n",
    "                    const RMLDoubleVector& target_velocity,\n",
    "                    double min_sync_time = 0.0)\n",
    "                    '''\n",
    "        position.append(pos)\n",
    "        velocity.append(vel)\n",
    "        acceleration.append(acc)\n",
    "        \n",
    "    return position, velocity, acceleration"
   ]
  },
  {
   "cell_type": "code",
   "execution_count": 7,
   "metadata": {},
   "outputs": [],
   "source": [
    "'''\n",
    "explicit PositionTrajectoryGenerator(unsigned number_of_dofs,\n",
    "                                    double cycle_time,\n",
    "                                    const RMLDoubleVector& max_velocity,\n",
    "                                    const RMLDoubleVector& max_acceleration,\n",
    "                                    const RMLDoubleVector& max_jerk)\n",
    "'''\n",
    "gen = reflexxes.extra.PositionTrajectoryGenerator(\n",
    "    number_of_dofs=3,\n",
    "    cycle_time=0.01,\n",
    "    max_velocity=[10, 10, 10],\n",
    "    max_acceleration=[8, 8, 8],\n",
    "    max_jerk=[4, 5, 6]\n",
    ")"
   ]
  },
  {
   "cell_type": "code",
   "execution_count": 8,
   "metadata": {},
   "outputs": [],
   "source": [
    "data_size = 100"
   ]
  },
  {
   "cell_type": "code",
   "execution_count": 9,
   "metadata": {},
   "outputs": [],
   "source": [
    "def save_to_csv(data, file_name):\n",
    "    pos_list = []\n",
    "    for pos in data:\n",
    "        pos_list.append(pos)\n",
    "    np.savetxt('data/' + file_name + '.csv', np.array(pos_list))"
   ]
  },
  {
   "cell_type": "markdown",
   "metadata": {},
   "source": [
    "## Generate original data without noise"
   ]
  },
  {
   "cell_type": "markdown",
   "metadata": {},
   "source": [
    "### Random trejectories / individual trajectories has no interdependency"
   ]
  },
  {
   "cell_type": "code",
   "execution_count": 40,
   "metadata": {},
   "outputs": [],
   "source": [
    "random.seed(7777)"
   ]
  },
  {
   "cell_type": "code",
   "execution_count": 41,
   "metadata": {},
   "outputs": [],
   "source": [
    "original_data = [] # store all original data without noise\n",
    "original_positions = []\n",
    "original_velocities = []\n",
    "# first layer: number of samples/trajectories\n",
    "# second layer: position, velocity, accelaration, each a list of 3 dimensional list"
   ]
  },
  {
   "cell_type": "code",
   "execution_count": 42,
   "metadata": {},
   "outputs": [],
   "source": [
    "for i in range(data_size):\n",
    "    pos, vel, acc = generate_trajectory(gen)\n",
    "    #original_data.append([pos, vel, acc])\n",
    "    # plot_trajectory(pos, 'Trajectory for ' + str(i))\n",
    "    original_positions.append(pos)\n",
    "    original_velocities.append(vel)"
   ]
  },
  {
   "cell_type": "code",
   "execution_count": 44,
   "metadata": {},
   "outputs": [],
   "source": [
    "original_position_list = []\n",
    "for pos in original_positions:\n",
    "    original_position_list.extend(pos)\n",
    "\n",
    "original_velocity_list = []\n",
    "for vel in original_velocities:\n",
    "    original_velocity_list.extend(vel)"
   ]
  },
  {
   "cell_type": "code",
   "execution_count": 45,
   "metadata": {},
   "outputs": [
    {
     "data": {
      "text/plain": [
       "65900"
      ]
     },
     "execution_count": 45,
     "metadata": {},
     "output_type": "execute_result"
    }
   ],
   "source": [
    "len(original_position_list)"
   ]
  },
  {
   "cell_type": "code",
   "execution_count": 46,
   "metadata": {},
   "outputs": [],
   "source": [
    "np.savetxt(\"data/original_position_list.csv\", np.array(original_position_list))\n",
    "np.savetxt(\"data/original_velocity_list.csv\", np.array(original_velocity_list))"
   ]
  },
  {
   "cell_type": "markdown",
   "metadata": {},
   "source": [
    "### Previous trajectory's end position being next trajectory's starting point"
   ]
  },
  {
   "cell_type": "code",
   "execution_count": null,
   "metadata": {},
   "outputs": [],
   "source": [
    "random.seed(7777)\n",
    "continuous_data = []\n",
    "continuous_positions = []"
   ]
  },
  {
   "cell_type": "code",
   "execution_count": null,
   "metadata": {},
   "outputs": [],
   "source": []
  },
  {
   "cell_type": "code",
   "execution_count": null,
   "metadata": {},
   "outputs": [],
   "source": []
  },
  {
   "cell_type": "markdown",
   "metadata": {},
   "source": [
    "### separate trajectories with different noises"
   ]
  },
  {
   "cell_type": "code",
   "execution_count": 27,
   "metadata": {},
   "outputs": [],
   "source": [
    "def add_noise_to_original_data(original_data, error_range, plot):\n",
    "    processed_data = []\n",
    "\n",
    "    # generate random noise with size same as number of points of positions\n",
    "    noise = np.random.uniform(-error_range, error_range, (original_data.shape[0], original_data.shape[1]))\n",
    "    # np.random.normal(mean, sigma, (original_data.shape[0], original_data.shape[1]))\n",
    "    noisy_traj = original_data + noise\n",
    "    processed_data.extend(noisy_traj)\n",
    "\n",
    "    if plot:\n",
    "        plot_trajectory(original_data, 'Before noise')\n",
    "        plot_trajectory(processed_data, 'After noise')\n",
    "    \n",
    "    return processed_data"
   ]
  },
  {
   "cell_type": "code",
   "execution_count": 28,
   "metadata": {},
   "outputs": [
    {
     "data": {
      "image/png": "[encoded data removed]",
      "text/plain": [
       "<Figure size 432x288 with 1 Axes>"
      ]
     },
     "metadata": {
      "needs_background": "light"
     },
     "output_type": "display_data"
    },
    {
     "data": {
      "image/png": "[encoded data removed]",
      "text/plain": [
       "<Figure size 432x288 with 1 Axes>"
      ]
     },
     "metadata": {
      "needs_background": "light"
     },
     "output_type": "display_data"
    }
   ],
   "source": [
    "# add noise to positions\n",
    "test1 = add_noise_to_original_data(np.array(original_positions[0]), 1, True)"
   ]
  },
  {
   "cell_type": "code",
   "execution_count": 36,
   "metadata": {},
   "outputs": [],
   "source": [
    "def add_noise_for_all_trej(noise_range): \n",
    "    sample_trajectories = []\n",
    "    # add noise for positions\n",
    "    for trajectory in original_positions:\n",
    "        sample_trajectories.extend(add_noise_to_original_data(np.array(trajectory), 1, False))\n",
    "        # use append if want to separate each trajectory\n",
    "    return sample_trajectories"
   ]
  },
  {
   "cell_type": "code",
   "execution_count": 37,
   "metadata": {},
   "outputs": [
    {
     "data": {
      "text/plain": [
       "65900"
      ]
     },
     "execution_count": 37,
     "metadata": {},
     "output_type": "execute_result"
    }
   ],
   "source": [
    "len(sample_trajectories)"
   ]
  },
  {
   "cell_type": "code",
   "execution_count": 39,
   "metadata": {},
   "outputs": [
    {
     "name": "stdout",
     "output_type": "stream",
     "text": [
      "65900\n",
      "65900\n",
      "65900\n"
     ]
    }
   ],
   "source": [
    "# add noise with uniform distribution\n",
    "noise_ranges = [0.01, 0.1, 1 ]\n",
    "for noise_range in noise_ranges:\n",
    "    position_noise = add_noise_for_all_trej(noise_range)\n",
    "    save_to_csv(position_noise, 'position_noise_' + str(noise_range))"
   ]
  },
  {
   "cell_type": "code",
   "execution_count": null,
   "metadata": {},
   "outputs": [],
   "source": []
  },
  {
   "cell_type": "code",
   "execution_count": null,
   "metadata": {},
   "outputs": [],
   "source": []
  },
  {
   "cell_type": "code",
   "execution_count": null,
   "metadata": {},
   "outputs": [],
   "source": []
  },
  {
   "cell_type": "markdown",
   "metadata": {},
   "source": [
    "## Learn HMM from sample"
   ]
  },
  {
   "cell_type": "code",
   "execution_count": null,
   "metadata": {},
   "outputs": [],
   "source": [
    "# generate length of each sample\n",
    "trajectory_length = []\n",
    "for trajectory in original_positions:\n",
    "    trajectory_length.append(len(trajectory))"
   ]
  },
  {
   "cell_type": "code",
   "execution_count": null,
   "metadata": {},
   "outputs": [],
   "source": [
    "HMM = hmm.GaussianHMM(n_components=10, covariance_type=\"full\", n_iter=data_size, verbose=True)"
   ]
  },
  {
   "cell_type": "code",
   "execution_count": null,
   "metadata": {},
   "outputs": [],
   "source": [
    "# TODO: use a proper way\n",
    "trajectories = original_positions[len(original_positions) - 1]\n",
    "for i in range(len(original_positions) - 1):\n",
    "#for sample in sample_trajectories:\n",
    "    trajectories = np.concatenate((trajectories, original_positions[i]))"
   ]
  },
  {
   "cell_type": "code",
   "execution_count": null,
   "metadata": {},
   "outputs": [],
   "source": [
    "trajectories"
   ]
  },
  {
   "cell_type": "code",
   "execution_count": null,
   "metadata": {},
   "outputs": [],
   "source": [
    "lengths = np.array(trajectory_length)"
   ]
  },
  {
   "cell_type": "code",
   "execution_count": null,
   "metadata": {},
   "outputs": [],
   "source": [
    "trajectories.shape"
   ]
  },
  {
   "cell_type": "code",
   "execution_count": null,
   "metadata": {},
   "outputs": [],
   "source": [
    "HMM.fit(trajectories, lengths)"
   ]
  },
  {
   "cell_type": "code",
   "execution_count": null,
   "metadata": {},
   "outputs": [],
   "source": [
    "HMM.means_"
   ]
  },
  {
   "cell_type": "code",
   "execution_count": null,
   "metadata": {},
   "outputs": [],
   "source": [
    "plot_trajectory(HMM.means_, 'Means')"
   ]
  },
  {
   "cell_type": "code",
   "execution_count": null,
   "metadata": {},
   "outputs": [],
   "source": [
    "pred = HMM.predict(sample_trajectories[0])"
   ]
  },
  {
   "cell_type": "code",
   "execution_count": null,
   "metadata": {},
   "outputs": [],
   "source": [
    "trej = []\n",
    "for point in pred:\n",
    "    trej.append(HMM.means_[point])"
   ]
  },
  {
   "cell_type": "code",
   "execution_count": null,
   "metadata": {},
   "outputs": [],
   "source": [
    "plot_trajectory(trej, 'Trej')"
   ]
  },
  {
   "cell_type": "code",
   "execution_count": null,
   "metadata": {},
   "outputs": [],
   "source": [
    "plot_trajectory(sample_trajectories[0], 'Real')"
   ]
  },
  {
   "cell_type": "code",
   "execution_count": null,
   "metadata": {},
   "outputs": [],
   "source": []
  },
  {
   "cell_type": "code",
   "execution_count": null,
   "metadata": {},
   "outputs": [],
   "source": []
  },
  {
   "cell_type": "code",
   "execution_count": null,
   "metadata": {},
   "outputs": [],
   "source": []
  },
  {
   "cell_type": "code",
   "execution_count": null,
   "metadata": {},
   "outputs": [],
   "source": []
  },
  {
   "cell_type": "code",
   "execution_count": null,
   "metadata": {},
   "outputs": [],
   "source": []
  },
  {
   "cell_type": "code",
   "execution_count": null,
   "metadata": {},
   "outputs": [],
   "source": []
  },
  {
   "cell_type": "code",
   "execution_count": null,
   "metadata": {},
   "outputs": [],
   "source": []
  },
  {
   "cell_type": "code",
   "execution_count": null,
   "metadata": {},
   "outputs": [],
   "source": []
  },
  {
   "cell_type": "code",
   "execution_count": null,
   "metadata": {},
   "outputs": [],
   "source": []
  },
  {
   "cell_type": "code",
   "execution_count": null,
   "metadata": {},
   "outputs": [],
   "source": []
  }
 ],
 "metadata": {
  "kernelspec": {
   "display_name": "Python 3",
   "language": "python",
   "name": "python3"
  },
  "language_info": {
   "codemirror_mode": {
    "name": "ipython",
    "version": 3
   },
   "file_extension": ".py",
   "mimetype": "text/x-python",
   "name": "python",
   "nbconvert_exporter": "python",
   "pygments_lexer": "ipython3",
   "version": "3.7.4"
  }
 },
 "nbformat": 4,
 "nbformat_minor": 2
}
